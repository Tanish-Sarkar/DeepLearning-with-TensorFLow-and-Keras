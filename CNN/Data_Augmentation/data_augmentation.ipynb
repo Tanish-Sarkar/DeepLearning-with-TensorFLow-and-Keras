{
 "cells": [
  {
   "cell_type": "markdown",
   "id": "7c4974fc",
   "metadata": {},
   "source": [
    "# **Data augmentaion**"
   ]
  },
  {
   "cell_type": "code",
   "execution_count": 5,
   "id": "ebaf1186",
   "metadata": {},
   "outputs": [],
   "source": [
    "import tensorflow as tf\n",
    "from tensorflow.keras.preprocessing.image import ImageDataGenerator\n",
    "import numpy as np"
   ]
  },
  {
   "cell_type": "code",
   "execution_count": 6,
   "id": "576ad94f",
   "metadata": {},
   "outputs": [],
   "source": [
    "img = tf.keras.utils.load_img('../Data_Augmentation/train/00000-4122619873.png', target_size=(200,200))\n"
   ]
  },
  {
   "cell_type": "code",
   "execution_count": null,
   "id": "d3936009",
   "metadata": {},
   "outputs": [],
   "source": []
  }
 ],
 "metadata": {
  "kernelspec": {
   "display_name": "Python 3",
   "language": "python",
   "name": "python3"
  },
  "language_info": {
   "codemirror_mode": {
    "name": "ipython",
    "version": 3
   },
   "file_extension": ".py",
   "mimetype": "text/x-python",
   "name": "python",
   "nbconvert_exporter": "python",
   "pygments_lexer": "ipython3",
   "version": "3.13.5"
  }
 },
 "nbformat": 4,
 "nbformat_minor": 5
}
