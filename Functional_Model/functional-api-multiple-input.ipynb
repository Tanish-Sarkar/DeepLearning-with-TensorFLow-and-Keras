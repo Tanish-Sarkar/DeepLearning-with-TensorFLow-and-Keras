{
 "cells": [
  {
   "cell_type": "markdown",
   "id": "6f83b9b8",
   "metadata": {},
   "source": [
    "### **Functional Api (multiple-input)**"
   ]
  },
  {
   "cell_type": "code",
   "execution_count": null,
   "id": "6e6ae1ee",
   "metadata": {},
   "outputs": [],
   "source": []
  }
 ],
 "metadata": {
  "language_info": {
   "name": "python"
  }
 },
 "nbformat": 4,
 "nbformat_minor": 5
}
