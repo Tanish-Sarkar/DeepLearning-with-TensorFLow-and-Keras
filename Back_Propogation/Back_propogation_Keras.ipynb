{
 "cells": [
  {
   "cell_type": "markdown",
   "id": "1b9d13ae",
   "metadata": {},
   "source": [
    "### **`Backward propogation using Keras`**"
   ]
  }
 ],
 "metadata": {
  "language_info": {
   "name": "python"
  }
 },
 "nbformat": 4,
 "nbformat_minor": 5
}
