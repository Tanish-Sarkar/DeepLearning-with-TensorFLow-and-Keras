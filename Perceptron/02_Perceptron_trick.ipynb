{
 "cells": [
  {
   "cell_type": "markdown",
   "id": "3f3fd569",
   "metadata": {},
   "source": [
    "## **`Perceptron Trick`**"
   ]
  },
  {
   "cell_type": "code",
   "execution_count": null,
   "id": "024cd520",
   "metadata": {},
   "outputs": [],
   "source": []
  }
 ],
 "metadata": {
  "language_info": {
   "name": "python"
  }
 },
 "nbformat": 4,
 "nbformat_minor": 5
}
